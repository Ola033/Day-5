{
 "cells": [
  {
   "cell_type": "markdown",
   "metadata": {},
   "source": [
    "# Python_Lab_3\n"
   ]
  },
  {
   "cell_type": "markdown",
   "metadata": {},
   "source": [
    "### Task 1\n",
    "- Write a function named **'create_student_records'** that takes a list of tuples. Each tuple contains a student's name and their scores in three subjects. The function should return a list of dictionaries, where each dictionary represents a student with keys: name, subject1, subject2, subject3. Use list comprehension to create the list of dictionaries."
   ]
  },
  {
   "cell_type": "code",
   "execution_count": 7,
   "metadata": {},
   "outputs": [
    {
     "name": "stdout",
     "output_type": "stream",
     "text": [
      "[{'name': 'Dana', 'subject1': 85, 'subject2': 92, 'subject3': 78}, {'name': 'Sara', 'subject1': 88, 'subject2': 76, 'subject3': 90}, {'name': 'Ola', 'subject1': 95, 'subject2': 100, 'subject3': 92}]\n"
     ]
    }
   ],
   "source": [
    "# write your code here ^_^\n",
    "\n",
    "\n",
    "def create_student_records (student_tuples):\n",
    "\n",
    "    return [\n",
    "        {\n",
    "           'name': name ,\n",
    "            'subject1': scores[0],\n",
    "            'subject2': scores[1],\n",
    "            'subject3': scores[2]\n",
    "        }\n",
    "        for name, scores in student_tuples\n",
    "    ]\n",
    "\n",
    "\n",
    "students = [\n",
    "    ('Dana', (85, 92, 78)),\n",
    "    ('Sara', (88, 76, 90)),\n",
    "    ('Ola', (95, 100, 92))\n",
    "]\n",
    "\n",
    "records = create_student_records(students)\n",
    "print(records)\n",
    "\n",
    "\n"
   ]
  },
  {
   "cell_type": "markdown",
   "metadata": {},
   "source": [
    "### Task 2\n",
    "- Write a function named **'filter_and_sort_students'** that takes the list of dictionaries from Question 1 and returns a sorted list of student names who have an average score of 80 or more across all subjects. Sort the names in alphabetical order."
   ]
  },
  {
   "cell_type": "code",
   "execution_count": 15,
   "metadata": {},
   "outputs": [
    {
     "name": "stdout",
     "output_type": "stream",
     "text": [
      "['Dana', 'Ola', 'Sara']\n"
     ]
    }
   ],
   "source": [
    "# write your code here ^_^\n",
    "\n",
    "\n",
    "def filter_and_sort_students(student_records):\n",
    "    \n",
    "    filtered_students = [\n",
    "        student['name']\n",
    "        for student in student_records\n",
    "        if (student['subject1'] + student['subject2'] + student['subject3']) / 3 >= 80\n",
    "    ]\n",
    "    \n",
    "   \n",
    "    return sorted(filtered_students)\n",
    "\n",
    "# Example usage:\n",
    "students = [\n",
    "    {'name': 'Dana', 'subject1': 85, 'subject2': 92, 'subject3': 78},\n",
    "    {'name': 'Sara', 'subject1': 88, 'subject2': 76, 'subject3': 90},\n",
    "    {'name': 'Ola', 'subject1': 95, 'subject2': 100, 'subject3': 92},\n",
    "]\n",
    "\n",
    "sorted_students = filter_and_sort_students(students)\n",
    "print(sorted_students)\n"
   ]
  },
  {
   "cell_type": "markdown",
   "metadata": {},
   "source": [
    "### Task 3\n",
    "- Write a function named **'get_product_info'** that prompts the user to enter information about a product. The function should ask for the product name, product price, and product quantity. If the user enters an invalid input (e.g., a non-numeric value for the price or quantity), the function should handle the error and prompt the user to enter the value again. Return a dictionary containing the product information."
   ]
  },
  {
   "cell_type": "code",
   "execution_count": 17,
   "metadata": {},
   "outputs": [
    {
     "name": "stdin",
     "output_type": "stream",
     "text": [
      "Enter the product name:  c\n",
      "Enter the product price:  c\n"
     ]
    },
    {
     "name": "stdout",
     "output_type": "stream",
     "text": [
      "Invalid input. Please enter a numeric value for the price.\n"
     ]
    },
    {
     "name": "stdin",
     "output_type": "stream",
     "text": [
      "Enter the product price:  44\n",
      "Enter the product quantity:  65\n"
     ]
    },
    {
     "name": "stdout",
     "output_type": "stream",
     "text": [
      "{'name': 'c', 'price': 44.0, 'quantity': 65}\n"
     ]
    }
   ],
   "source": [
    "# write your code here ^_^\n",
    "\n",
    "def get_product_info():\n",
    "    product_info = {}\n",
    "\n",
    "    \n",
    "    product_info['name'] = input(\"Enter the product name: \")\n",
    "\n",
    "    \n",
    "    while True:\n",
    "        try:\n",
    "            price = float(input(\"Enter the product price: \"))\n",
    "            product_info['price'] = price\n",
    "            break  # Exit the loop if input is valid\n",
    "        except ValueError:\n",
    "            print(\"Invalid input. Please enter a numeric value for the price.\")\n",
    "\n",
    "   \n",
    "    while True:\n",
    "        try:\n",
    "            quantity = int(input(\"Enter the product quantity: \"))\n",
    "            product_info['quantity'] = quantity\n",
    "            break  # Exit the loop if input is valid\n",
    "        except ValueError:\n",
    "            print(\"Invalid input. Please enter a whole number for the quantity.\")\n",
    "\n",
    "    return product_info\n",
    "\n",
    "\n",
    "product = get_product_info()\n",
    "print(product)\n"
   ]
  },
  {
   "cell_type": "markdown",
   "metadata": {},
   "source": [
    "### Task 4\n",
    "- Write a function named **'get_even_numbers'** that takes a list of integers and returns a list of even numbers using list comprehension."
   ]
  },
  {
   "cell_type": "code",
   "execution_count": 19,
   "metadata": {},
   "outputs": [
    {
     "name": "stdout",
     "output_type": "stream",
     "text": [
      "[2, 4, 6, 8, 10]\n"
     ]
    }
   ],
   "source": [
    "# write your code here ^_^\n",
    "\n",
    "\n",
    "def get_even_numbers(int_list):\n",
    "    return [num for num in int_list if num % 2 == 0]\n",
    "\n",
    "numbers = [1, 2, 3, 4, 5, 6, 7, 8, 9, 10]\n",
    "even_numbers = get_even_numbers(numbers)\n",
    "print(even_numbers)\n"
   ]
  },
  {
   "cell_type": "markdown",
   "metadata": {},
   "source": [
    "### Task 5\n",
    "- Write a function named **'pair_elements'** that takes two lists of equal length as parameters and returns a list of tuples, where each tuple contains corresponding elements from the two lists. Use the zip function to achieve this."
   ]
  },
  {
   "cell_type": "markdown",
   "metadata": {},
   "source": []
  },
  {
   "cell_type": "code",
   "execution_count": 21,
   "metadata": {},
   "outputs": [
    {
     "name": "stdout",
     "output_type": "stream",
     "text": [
      "[(1, 'a'), (2, 'b'), (3, 'c')]\n"
     ]
    }
   ],
   "source": [
    "# write your code here ^_^\n",
    "def pair_elements(list1, list2):\n",
    "    \n",
    "    if len(list1) != len(list2):\n",
    "        raise ValueError(\"Both lists must be of equal length.\")\n",
    "\n",
    "    \n",
    "    return list(zip(list1, list2))\n",
    "\n",
    "\n",
    "list_a = [1, 2, 3]\n",
    "list_b = ['a', 'b', 'c']\n",
    "paired = pair_elements(list_a, list_b)\n",
    "print(paired)\n"
   ]
  },
  {
   "cell_type": "markdown",
   "metadata": {},
   "source": [
    "### Task 6\n",
    "- Write a function named **'square_dict_lambda'** that takes a list of integers and returns a dictionary where the keys are the integers and the values are their squares. Use a lambda function within a dictionary comprehension to achieve this."
   ]
  },
  {
   "cell_type": "code",
   "execution_count": 23,
   "metadata": {},
   "outputs": [
    {
     "name": "stdout",
     "output_type": "stream",
     "text": [
      "{1: 1, 2: 4, 3: 9, 4: 16, 5: 25}\n"
     ]
    }
   ],
   "source": [
    "# write your code here ^_^\n",
    "\n",
    "def square_dict_lambda(int_list):\n",
    "    return {num: (lambda x: x ** 2)(num) for num in int_list}\n",
    "\n",
    "\n",
    "numbers = [1, 2, 3, 4, 5]\n",
    "squared_dict = square_dict_lambda(numbers)\n",
    "print(squared_dict)\n"
   ]
  },
  {
   "cell_type": "code",
   "execution_count": null,
   "metadata": {},
   "outputs": [],
   "source": []
  }
 ],
 "metadata": {
  "kernelspec": {
   "display_name": "Python 3 (ipykernel)",
   "language": "python",
   "name": "python3"
  },
  "language_info": {
   "codemirror_mode": {
    "name": "ipython",
    "version": 3
   },
   "file_extension": ".py",
   "mimetype": "text/x-python",
   "name": "python",
   "nbconvert_exporter": "python",
   "pygments_lexer": "ipython3",
   "version": "3.12.4"
  }
 },
 "nbformat": 4,
 "nbformat_minor": 4
}
